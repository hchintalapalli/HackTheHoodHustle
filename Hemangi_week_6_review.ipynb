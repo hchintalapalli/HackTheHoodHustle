{
  "nbformat": 4,
  "nbformat_minor": 0,
  "metadata": {
    "colab": {
      "provenance": [],
      "authorship_tag": "ABX9TyP2bQX8ENvJv39VqF/peJIP",
      "include_colab_link": true
    },
    "kernelspec": {
      "name": "python3",
      "display_name": "Python 3"
    },
    "language_info": {
      "name": "python"
    }
  },
  "cells": [
    {
      "cell_type": "markdown",
      "metadata": {
        "id": "view-in-github",
        "colab_type": "text"
      },
      "source": [
        "<a href=\"https://colab.research.google.com/github/hchintalapalli/HackTheHoodHustle/blob/main/Hemangi_week_6_review.ipynb\" target=\"_parent\"><img src=\"https://colab.research.google.com/assets/colab-badge.svg\" alt=\"Open In Colab\"/></a>"
      ]
    },
    {
      "cell_type": "markdown",
      "source": [
        "Iteration Review"
      ],
      "metadata": {
        "id": "ML_Itwvb1pYB"
      }
    },
    {
      "cell_type": "code",
      "execution_count": null,
      "metadata": {
        "id": "_ZgbIe790mYB"
      },
      "outputs": [],
      "source": [
        "What is iteration?\n",
        "\n",
        "#a procedure that is done or something that is done through repetition\n",
        "\n",
        "What is a while loop?\n",
        "\n",
        "#knowing repeated code that is dependent on a condition\n",
        "checks then runs\n",
        "What is a for loop?\n",
        "\n",
        "#knowing repeated without an end\n",
        "runs then checks\n",
        "\n",
        "\n",
        "# cmd + '?' key to mass comment code\n",
        "\n",
        "# What is iteration?\n",
        "\n",
        "# a procedure that is done or somethiing that is done through repetition\n",
        "# a process\n",
        "# instructions of code that involves repeating until something specific is done\n",
        "\n",
        "# What is a while loop?\n",
        "\n",
        "# repeating code that is dependent on a condition\n",
        "#keyword = while\n",
        "\n",
        "# What is a for loop?\n",
        "\n",
        "# for loop repeats over an data type or range that you can travel through\n",
        "# a specific number of types\n",
        "# loop variable\n",
        "# keyword = for\n",
        "\n",
        "for student in roster:\n",
        "  print(f\"HELLO! {student}\")"
      ]
    },
    {
      "cell_type": "code",
      "source": [
        "#Example of while loop:\n",
        "\n",
        "counter = 0\n",
        "\n",
        "while counter <=10:\n",
        "  print(\"hey!\")\n",
        "\n",
        "# EXAMPLE for loop:\n",
        "\n",
        "for i in range(3):\n",
        "  print(\"Python’s great!\")\n",
        "\n",
        "###########################################\n",
        "fruits = ['apple', 'strawberry', 'peach']\n",
        "\n",
        "for fruit in fruits:\n",
        "  print(fruit)"
      ],
      "metadata": {
        "id": "F4Uu17is-C7G"
      },
      "execution_count": null,
      "outputs": []
    },
    {
      "cell_type": "markdown",
      "source": [
        "# while loop or for loop?"
      ],
      "metadata": {
        "id": "SY-VQU6244Bg"
      }
    },
    {
      "cell_type": "code",
      "source": [
        "# 1. Print out each name on a student roster\n",
        "\n",
        "roster = ['Hemangi', 'Zaid', 'Arnez', 'Emmanuel', 'Jazz', 'Yoline', 'Jamareaa']\n",
        "\n",
        "\n",
        "\n",
        "for student in roster:\n",
        "  print(f\"HELLO! {student}\")\n",
        "\n",
        "\n"
      ],
      "metadata": {
        "colab": {
          "base_uri": "https://localhost:8080/"
        },
        "id": "iNiKiSWZ5pwA",
        "outputId": "29ef40e8-0fbd-40b2-cb9f-5b70185a381e"
      },
      "execution_count": null,
      "outputs": [
        {
          "output_type": "stream",
          "name": "stdout",
          "text": [
            "HELLO! Hemangi\n",
            "HELLO! Zaid\n",
            "HELLO! Arnez\n",
            "HELLO! Emmanuel\n",
            "HELLO! Jazz\n",
            "HELLO! Yoline\n",
            "HELLO! Jamareaa\n"
          ]
        }
      ]
    },
    {
      "cell_type": "code",
      "source": [
        "# 1. Print out each name on a student roster\n",
        "\n",
        "roster = ['Hemangi', 'Zaid', 'Arnez', 'Emmanuel', 'Jazz', 'Yoline', 'Jamareaa']\n",
        "\n",
        "\n",
        "for index in range(len(roster)):\n",
        "  print(f\"HELLO! {roster[index]}\")\n",
        "\n"
      ],
      "metadata": {
        "colab": {
          "base_uri": "https://localhost:8080/"
        },
        "id": "0wjHzWAn9V_P",
        "outputId": "349853ed-8167-4cce-dd09-a25b05d3a91b"
      },
      "execution_count": null,
      "outputs": [
        {
          "output_type": "stream",
          "name": "stdout",
          "text": [
            "HELLO! Hemangi\n",
            "HELLO! Zaid\n",
            "HELLO! Arnez\n",
            "HELLO! Emmanuel\n",
            "HELLO! Jazz\n",
            "HELLO! Yoline\n",
            "HELLO! Jamareaa\n"
          ]
        }
      ]
    },
    {
      "cell_type": "code",
      "source": [
        "# Let's build our grocery list, but if the item is in the list, do not place that\n",
        "# item. NO REPEATS.\n",
        "# then, print out the list\n",
        "\n",
        "# first step: give me an empty list w/ variable name grocery_list\n",
        "\n",
        "grocery_list = []\n",
        "\n",
        "# second step: Ask user to give a grocery item by using an input call\n",
        "\n",
        "item = input(\"Give me a grocery item: \")\n",
        "print(item)\n",
        "\n",
        "# third step\n",
        "# third step: Step up a condtional to see if item is in the list. If it is, say 'already in list!!!!!!'\n",
        "\n",
        "if item in grocery_list:\n",
        "  print(\"already in list!!! \")\n",
        "\n",
        "# fourth step: use a while to stop at max three items in list\n",
        "\n",
        "number_of_items = len(grocery_list)\n",
        "\n",
        "while number_of_items <= 3:\n",
        "  item = input(\"Give me a grocery item: \")\n",
        "  grocery_list.append(item)\n",
        "\n",
        "print(grocery_list)"
      ],
      "metadata": {
        "colab": {
          "base_uri": "https://localhost:8080/",
          "height": 525
        },
        "id": "AWPZpBWnAGLO",
        "outputId": "c6fb3411-a60b-456f-d628-b8e9588c4a1c"
      },
      "execution_count": null,
      "outputs": [
        {
          "name": "stdout",
          "output_type": "stream",
          "text": [
            "Give me a grocery item: cilantro\n",
            "cilantro\n",
            "Give me a grocery item: pop\n"
          ]
        },
        {
          "output_type": "error",
          "ename": "KeyboardInterrupt",
          "evalue": "Interrupted by user",
          "traceback": [
            "\u001b[0;31m---------------------------------------------------------------------------\u001b[0m",
            "\u001b[0;31mKeyboardInterrupt\u001b[0m                         Traceback (most recent call last)",
            "\u001b[0;32m<ipython-input-27-7f73818cbc4f>\u001b[0m in \u001b[0;36m<cell line: 24>\u001b[0;34m()\u001b[0m\n\u001b[1;32m     23\u001b[0m \u001b[0;34m\u001b[0m\u001b[0m\n\u001b[1;32m     24\u001b[0m \u001b[0;32mwhile\u001b[0m \u001b[0mnumber_of_items\u001b[0m \u001b[0;34m<=\u001b[0m \u001b[0;36m3\u001b[0m\u001b[0;34m:\u001b[0m\u001b[0;34m\u001b[0m\u001b[0;34m\u001b[0m\u001b[0m\n\u001b[0;32m---> 25\u001b[0;31m   \u001b[0mitem\u001b[0m \u001b[0;34m=\u001b[0m \u001b[0minput\u001b[0m\u001b[0;34m(\u001b[0m\u001b[0;34m\"Give me a grocery item: \"\u001b[0m\u001b[0;34m)\u001b[0m\u001b[0;34m\u001b[0m\u001b[0;34m\u001b[0m\u001b[0m\n\u001b[0m\u001b[1;32m     26\u001b[0m   \u001b[0mgrocery_list\u001b[0m\u001b[0;34m.\u001b[0m\u001b[0mappend\u001b[0m\u001b[0;34m(\u001b[0m\u001b[0mitem\u001b[0m\u001b[0;34m)\u001b[0m\u001b[0;34m\u001b[0m\u001b[0;34m\u001b[0m\u001b[0m\n\u001b[1;32m     27\u001b[0m \u001b[0mprint\u001b[0m\u001b[0;34m(\u001b[0m\u001b[0mgrocery_list\u001b[0m\u001b[0;34m)\u001b[0m\u001b[0;34m\u001b[0m\u001b[0;34m\u001b[0m\u001b[0m\n",
            "\u001b[0;32m/usr/local/lib/python3.10/dist-packages/ipykernel/kernelbase.py\u001b[0m in \u001b[0;36mraw_input\u001b[0;34m(self, prompt)\u001b[0m\n\u001b[1;32m    849\u001b[0m                 \u001b[0;34m\"raw_input was called, but this frontend does not support input requests.\"\u001b[0m\u001b[0;34m\u001b[0m\u001b[0;34m\u001b[0m\u001b[0m\n\u001b[1;32m    850\u001b[0m             )\n\u001b[0;32m--> 851\u001b[0;31m         return self._input_request(str(prompt),\n\u001b[0m\u001b[1;32m    852\u001b[0m             \u001b[0mself\u001b[0m\u001b[0;34m.\u001b[0m\u001b[0m_parent_ident\u001b[0m\u001b[0;34m,\u001b[0m\u001b[0;34m\u001b[0m\u001b[0;34m\u001b[0m\u001b[0m\n\u001b[1;32m    853\u001b[0m             \u001b[0mself\u001b[0m\u001b[0;34m.\u001b[0m\u001b[0m_parent_header\u001b[0m\u001b[0;34m,\u001b[0m\u001b[0;34m\u001b[0m\u001b[0;34m\u001b[0m\u001b[0m\n",
            "\u001b[0;32m/usr/local/lib/python3.10/dist-packages/ipykernel/kernelbase.py\u001b[0m in \u001b[0;36m_input_request\u001b[0;34m(self, prompt, ident, parent, password)\u001b[0m\n\u001b[1;32m    893\u001b[0m             \u001b[0;32mexcept\u001b[0m \u001b[0mKeyboardInterrupt\u001b[0m\u001b[0;34m:\u001b[0m\u001b[0;34m\u001b[0m\u001b[0;34m\u001b[0m\u001b[0m\n\u001b[1;32m    894\u001b[0m                 \u001b[0;31m# re-raise KeyboardInterrupt, to truncate traceback\u001b[0m\u001b[0;34m\u001b[0m\u001b[0;34m\u001b[0m\u001b[0m\n\u001b[0;32m--> 895\u001b[0;31m                 \u001b[0;32mraise\u001b[0m \u001b[0mKeyboardInterrupt\u001b[0m\u001b[0;34m(\u001b[0m\u001b[0;34m\"Interrupted by user\"\u001b[0m\u001b[0;34m)\u001b[0m \u001b[0;32mfrom\u001b[0m \u001b[0;32mNone\u001b[0m\u001b[0;34m\u001b[0m\u001b[0;34m\u001b[0m\u001b[0m\n\u001b[0m\u001b[1;32m    896\u001b[0m             \u001b[0;32mexcept\u001b[0m \u001b[0mException\u001b[0m \u001b[0;32mas\u001b[0m \u001b[0me\u001b[0m\u001b[0;34m:\u001b[0m\u001b[0;34m\u001b[0m\u001b[0;34m\u001b[0m\u001b[0m\n\u001b[1;32m    897\u001b[0m                 \u001b[0mself\u001b[0m\u001b[0;34m.\u001b[0m\u001b[0mlog\u001b[0m\u001b[0;34m.\u001b[0m\u001b[0mwarning\u001b[0m\u001b[0;34m(\u001b[0m\u001b[0;34m\"Invalid Message:\"\u001b[0m\u001b[0;34m,\u001b[0m \u001b[0mexc_info\u001b[0m\u001b[0;34m=\u001b[0m\u001b[0;32mTrue\u001b[0m\u001b[0;34m)\u001b[0m\u001b[0;34m\u001b[0m\u001b[0;34m\u001b[0m\u001b[0m\n",
            "\u001b[0;31mKeyboardInterrupt\u001b[0m: Interrupted by user"
          ]
        }
      ]
    },
    {
      "cell_type": "code",
      "source": [
        "grocery_list = []\n",
        "\n",
        "# Second step: Ask user to give a grocery item by using an input call\n",
        "item = input(\"Give me a grocery item: \")\n",
        "\n",
        "# Third step: Set up a conditional to see if item is in the list.\n",
        "# If it is, say 'already in list!!!!!!'\n",
        "# if item in grocery_list:\n",
        "#     print(\"You already have this item in the list!\")\n",
        "# else:\n",
        "#     grocery_list.append(item)\n",
        "\n",
        "# Fourth step: Use a while loop to stop at max three items in list\n",
        "while len(grocery_list) < 3:\n",
        "    item = input(\"Give me a grocery item: \")\n",
        "    if item in grocery_list:\n",
        "        print(\"You already have this item in the list!\")\n",
        "    else:\n",
        "        grocery_list.append(item)\n",
        "    print(grocery_list)\n",
        "    print(len(grocery_list))\n",
        "\n",
        "print(\"Your final grocery list is:\", grocery_list)"
      ],
      "metadata": {
        "id": "bWMfIfqCHkXx"
      },
      "execution_count": null,
      "outputs": []
    }
  ]
}