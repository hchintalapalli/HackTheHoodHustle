{
  "nbformat": 4,
  "nbformat_minor": 0,
  "metadata": {
    "colab": {
      "provenance": [],
      "include_colab_link": true
    },
    "kernelspec": {
      "name": "python3",
      "display_name": "Python 3"
    },
    "language_info": {
      "name": "python"
    }
  },
  "cells": [
    {
      "cell_type": "markdown",
      "metadata": {
        "id": "view-in-github",
        "colab_type": "text"
      },
      "source": [
        "<a href=\"https://colab.research.google.com/github/hchintalapalli/HackTheHoodHustle/blob/main/Week8_OOP.ipynb\" target=\"_parent\"><img src=\"https://colab.research.google.com/assets/colab-badge.svg\" alt=\"Open In Colab\"/></a>"
      ]
    },
    {
      "cell_type": "markdown",
      "source": [
        "**What's the difference between a class definition and a class instance?**\n",
        "- class definition - blueprint for data and behavior\n",
        "- class instance - a real instance of the blueprint with it's own unique info\n",
        "\n",
        "**Is an object a class instance?**\n",
        "- Yes!\n",
        "\n",
        "**What's the difference between a class attribute and a class method?**\n",
        "- Attributes are information. They are pieces of data. Attributes can be unique to instances or general to a class.\n",
        "- Method - behavior that belongs to the class.\n",
        "\n",
        "**Example Classes**\n",
        "\n",
        "- Class: People, Instances: Kendall, Yoline, etc.\n",
        "-- People Attributes: age, weight, emotions, size, height, fast\n",
        "-- People Methods: dance, think, walk, eat, make decisions, learn\n",
        "\n",
        "\n",
        "- Class:  Animal, Instances: Kendall's cat Jazz, Clarkston's dog Hershey, Cincere's dog Honey\n",
        "-- Animal Attributes: type, color, age, breed, size, location\n",
        "-- Animal Methods: run, walk, play, jump, flip\n",
        "\n",
        "- Class: Ball, Instances: Essa's soccer ball, Matthew's basketball\n",
        "\n",
        "\n"
      ],
      "metadata": {
        "id": "SZ9OrI1Ggk3l"
      }
    },
    {
      "cell_type": "code",
      "execution_count": null,
      "metadata": {
        "colab": {
          "base_uri": "https://localhost:8080/"
        },
        "id": "zsmsN1agNZVi",
        "outputId": "30677e27-ce13-4fc4-b505-90230d706c6e"
      },
      "outputs": [
        {
          "output_type": "stream",
          "name": "stdout",
          "text": [
            "Kendall Technical Instructor red\n",
            "Essa\n",
            "pink\n",
            "red\n"
          ]
        }
      ],
      "source": [
        "class UserProfile:\n",
        "  def __init__(self, name, occupation, is_student, program):\n",
        "    self.name = name\n",
        "    self.occupation = occupation\n",
        "    self.is_student = is_student\n",
        "    self.program = program\n",
        "    self.background_color = \"red\"\n",
        "\n",
        "  def customize_background(self, color):\n",
        "    self.background_color = color\n",
        "\n",
        "  def make_a_post(self, post):\n",
        "    print(post)\n",
        "\n",
        "kendall_profile = UserProfile(\"Kendall\", \"Technical Instructor\", False, \"Hustle OUSD\")\n",
        "\n",
        "print(kendall_profile.name, kendall_profile.occupation, kendall_profile.background_color)\n",
        "\n",
        "essa_profile = UserProfile(\"Essa\", \"Learning\", True, \"Hustle OUSD\")\n",
        "\n",
        "print(essa_profile.name)\n",
        "\n",
        "kendall_profile.customize_background(\"pink\")\n",
        "print(kendall_profile.background_color)\n",
        "\n",
        "print(essa_profile.background_color)\n"
      ]
    }
  ]
}