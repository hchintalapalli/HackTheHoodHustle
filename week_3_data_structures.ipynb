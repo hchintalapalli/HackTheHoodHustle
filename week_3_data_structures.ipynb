{
  "nbformat": 4,
  "nbformat_minor": 0,
  "metadata": {
    "colab": {
      "provenance": [],
      "authorship_tag": "ABX9TyOUIp92u0IoS2NugVIonNvW",
      "include_colab_link": true
    },
    "kernelspec": {
      "name": "python3",
      "display_name": "Python 3"
    },
    "language_info": {
      "name": "python"
    }
  },
  "cells": [
    {
      "cell_type": "markdown",
      "metadata": {
        "id": "view-in-github",
        "colab_type": "text"
      },
      "source": [
        "<a href=\"https://colab.research.google.com/github/hchintalapalli/HackTheHoodHustle/blob/main/week_3_data_structures.ipynb\" target=\"_parent\"><img src=\"https://colab.research.google.com/assets/colab-badge.svg\" alt=\"Open In Colab\"/></a>"
      ]
    },
    {
      "cell_type": "markdown",
      "source": [
        "# Lists and Dictionaries\n",
        "\n",
        "##### accessing lists, dictionaries, manipulating data"
      ],
      "metadata": {
        "id": "QJ1ubGiSva0_"
      }
    },
    {
      "cell_type": "code",
      "source": [
        "#1 make a list of your favorite foods BUT in a dictionary\n",
        "\n",
        "food_preferences = {\n",
        "     \"hemangi\" : {\n",
        "         \"likes\" : [\"pasta\", \"grapes\", \"black bean burger\"],\n",
        "         \"dislikes\" : [\"broccoli\", \"spicy foods\"]\n",
        "     }\n",
        "}\n",
        "\n",
        "#print it out\n",
        "\n",
        "print(food_preferences)\n",
        "\n",
        "# 2. print the second thing that you like\n",
        "print(\"Here is the second value of likes: \")\n",
        "print(food_preferences[\"hemangi\"][\"likes\"][1])\n",
        "\n",
        "# 3. modify - append (add at the end), pop (remove)\n",
        "print(food_preferences[\"hemangi\"][\"likes\"])\n",
        "food_preferences[\"hemangi\"][\"likes\"].append(\"pizza\")\n",
        "print(\"my new likes\")\n",
        "print(food_preferences[\"hemangi\"][\"likes\"])\n",
        "print(\"my dislikes\")\n",
        "food_preferences[\"hemangi\"][\"dislikes\"].pop(0)\n",
        "print(\"my new dislikes\")\n",
        "print(food_preferences[\"hemangi\"][\"dislikes\"])"
      ],
      "metadata": {
        "colab": {
          "base_uri": "https://localhost:8080/"
        },
        "id": "D1KH8adAvoG0",
        "outputId": "49ed356f-61a6-4199-93bc-be70f5b8e851"
      },
      "execution_count": 8,
      "outputs": [
        {
          "output_type": "stream",
          "name": "stdout",
          "text": [
            "{'hemangi': {'likes': ['pasta', 'grapes', 'black bean burger'], 'dislikes': ['broccoli', 'spicy foods']}}\n",
            "Here is the second value of likes: \n",
            "grapes\n",
            "['pasta', 'grapes', 'black bean burger']\n",
            "my new likes\n",
            "['pasta', 'grapes', 'black bean burger', 'pizza']\n",
            "my dislikes\n",
            "my new dislikes\n",
            "['spicy foods']\n"
          ]
        }
      ]
    },
    {
      "cell_type": "markdown",
      "source": [
        "# Independent work for meal options"
      ],
      "metadata": {
        "id": "QpTXQi5C2TMk"
      }
    },
    {
      "cell_type": "code",
      "source": [
        "meal_options = {\n",
        "    \"breakfast\": {\n",
        "        \"food\": [\"pancakes\", \"waffles\", \"fruit\"],\n",
        "        \"drinks\": [\"coffee\", \"black tea\", \"smoothie\", \"water\"]\n",
        "    },\n",
        "    \"lunch\": {\n",
        "        \"food\": [\"sandwich\", \"dumplings\"],\n",
        "        \"drinks\": [\"water\", \"green tea\", \"soda\"]\n",
        "    },\n",
        "    \"dinner\": {\n",
        "        \"food\": [\"ramen\", \"risotto\"],\n",
        "        \"drinks\": [\"water\", \"chamomile tea\"]\n",
        "    }\n",
        "}\n",
        "\n",
        "# 1. print all the meal options\n",
        "print(\"#1, all options\")\n",
        "print(meal_options)\n",
        "\n",
        "# 2. print only the breakfast options\n",
        "print(\"#2, only breakfast options\")\n",
        "print(meal_options[\"breakfast\"])\n",
        "\n",
        "# 3. print the dinner food options\n",
        "print(\"#3, dinner food options\")\n",
        "print(meal_options[\"dinner\"][\"food\"])\n",
        "\n",
        "# 4. print the lunch drinks options\n",
        "print(\"#4, lunch drink options\")\n",
        "print(meal_options[\"lunch\"][\"drinks\"])\n",
        "\n",
        "# 5. print waffles (by accessing the dictionaries and list)\n",
        "print(\"printing waffles\")\n",
        "print(meal_options[\"breakfast\"][\"food\"][1])\n",
        "\n",
        "# 6. print dumplings (by accessing the dictionaries and list)\n",
        "print(\"printing dumplings\")\n",
        "print(meal_options[\"lunch\"][\"food\"][1])\n",
        "\n",
        "# 7. print chamomile tea (by accessing the dictionaries and list)\n",
        "print(\"printing chamomile tea\")\n",
        "print(meal_options[\"dinner\"][\"drinks\"][1])\n",
        "\n",
        "# 8. remove green tea from the lunch drinks\n",
        "print(\"removing green tea from lunch drinks\")\n",
        "print(meal_options[\"lunch\"][\"drinks\"].pop(1))\n",
        "print(meal_options[\"lunch\"][\"drinks\"])\n",
        "\n",
        "# 9. add pizza to dinner foods\n",
        "print(\"adding pizza to dinner foods\")\n",
        "print(meal_options[\"dinner\"][\"food\"].append(\"pizza\"))\n",
        "print(meal_options[\"dinner\"][\"food\"])"
      ],
      "metadata": {
        "colab": {
          "base_uri": "https://localhost:8080/"
        },
        "id": "fRC2gnbY2Zd0",
        "outputId": "10d21db1-499e-4fa0-e6e2-730035624b93"
      },
      "execution_count": 26,
      "outputs": [
        {
          "output_type": "stream",
          "name": "stdout",
          "text": [
            "#1, all options\n",
            "{'breakfast': {'food': ['pancakes', 'waffles', 'fruit'], 'drinks': ['coffee', 'black tea', 'smoothie', 'water']}, 'lunch': {'food': ['sandwich', 'dumplings'], 'drinks': ['water', 'green tea', 'soda']}, 'dinner': {'food': ['ramen', 'risotto'], 'drinks': ['water', 'chamomile tea']}}\n",
            "#2, only breakfast options\n",
            "{'food': ['pancakes', 'waffles', 'fruit'], 'drinks': ['coffee', 'black tea', 'smoothie', 'water']}\n",
            "#3, dinner food options\n",
            "['ramen', 'risotto']\n",
            "#4, lunch drink options\n",
            "['water', 'green tea', 'soda']\n",
            "printing waffles\n",
            "waffles\n",
            "printing dumplings\n",
            "dumplings\n",
            "printing chamomile tea\n",
            "chamomile tea\n",
            "removing green tea from lunch drinks\n",
            "green tea\n",
            "['water', 'soda']\n",
            "adding pizza to dinner foods\n",
            "None\n",
            "['ramen', 'risotto', 'pizza']\n"
          ]
        }
      ]
    },
    {
      "cell_type": "code",
      "source": [],
      "metadata": {
        "id": "IGxEMojm2t7J"
      },
      "execution_count": null,
      "outputs": []
    }
  ]
}