{
  "nbformat": 4,
  "nbformat_minor": 0,
  "metadata": {
    "colab": {
      "provenance": [],
      "authorship_tag": "ABX9TyPkYTeQX/5jOe896wtXTxQT",
      "include_colab_link": true
    },
    "kernelspec": {
      "name": "python3",
      "display_name": "Python 3"
    },
    "language_info": {
      "name": "python"
    }
  },
  "cells": [
    {
      "cell_type": "markdown",
      "metadata": {
        "id": "view-in-github",
        "colab_type": "text"
      },
      "source": [
        "<a href=\"https://colab.research.google.com/github/hchintalapalli/HackTheHoodHustle/blob/main/lab_june_17.ipynb\" target=\"_parent\"><img src=\"https://colab.research.google.com/assets/colab-badge.svg\" alt=\"Open In Colab\"/></a>"
      ]
    },
    {
      "cell_type": "markdown",
      "source": [
        "#Lab Jun. 17\n",
        "\n",
        "Intro to Pseudo code"
      ],
      "metadata": {
        "id": "8g7PE09Gwz-T"
      }
    },
    {
      "cell_type": "markdown",
      "source": [
        "##The rules to define variables\n",
        "\n",
        "1) Must start with a Letter or _Underscore\n",
        "\n",
        "2) Consists of Letters, Numbers and Underscores But it will not start with a number\n",
        "\n",
        "3) Variable names are case sensitive"
      ],
      "metadata": {
        "id": "OHcGRQLFLF_3"
      }
    },
    {
      "cell_type": "code",
      "source": [
        "Car = \"Mercedes\"\n",
        "Car = \"Audi\""
      ],
      "metadata": {
        "id": "d3VDqY1YLSRy"
      },
      "execution_count": 2,
      "outputs": []
    },
    {
      "cell_type": "code",
      "source": [
        "car"
      ],
      "metadata": {
        "colab": {
          "base_uri": "https://localhost:8080/",
          "height": 35
        },
        "id": "FJ65uvenN2V-",
        "outputId": "ff0d3c72-a3dd-46c6-ff57-f6fb5baefbb4"
      },
      "execution_count": 3,
      "outputs": [
        {
          "output_type": "execute_result",
          "data": {
            "text/plain": [
              "'Mercedes'"
            ],
            "application/vnd.google.colaboratory.intrinsic+json": {
              "type": "string"
            }
          },
          "metadata": {},
          "execution_count": 3
        }
      ]
    },
    {
      "cell_type": "code",
      "source": [
        "print(car)"
      ],
      "metadata": {
        "colab": {
          "base_uri": "https://localhost:8080/"
        },
        "id": "6y_-XQqUOebF",
        "outputId": "bf213b90-d7d6-48da-ea1f-ae5fd5309d24"
      },
      "execution_count": 4,
      "outputs": [
        {
          "output_type": "stream",
          "name": "stdout",
          "text": [
            "Mercedes\n"
          ]
        }
      ]
    },
    {
      "cell_type": "markdown",
      "source": [
        "\n"
      ],
      "metadata": {
        "id": "YvSdufcOOgfk"
      }
    },
    {
      "cell_type": "markdown",
      "source": [
        "### Psuedo code for my application\n",
        "I want to write a program that takes user input and prints it back to the screen.\n",
        "\n",
        "`First_name` the user's first name\n",
        "\n",
        "`Last_Name` the user's last name\n",
        "\n",
        "`Age` the user's age\n",
        "\n",
        "`Fav_Colour` the user's favourite colour\n",
        "\n",
        "`Fav_Sport` the user's favourite sport\n",
        "\n",
        "`Fav_Team` the user's favourite team\n",
        "\n",
        "use a 'built-in' process to take user's data.\n",
        "\n",
        "use a 'built-in' process to display user's data."
      ],
      "metadata": {
        "id": "grx-hcw5P0tY"
      }
    },
    {
      "cell_type": "markdown",
      "source": [
        "### Code for my application\n",
        "\n"
      ],
      "metadata": {
        "id": "7_Y4g_c0P3CZ"
      }
    },
    {
      "cell_type": "code",
      "source": [
        "First_name = 'John'\n",
        "Last_Name = 'Connor'\n",
        "Age = 23\n",
        "Fav_Colour = 'Gray'\n",
        "Fav_Sport = 'Soccer'\n",
        "Fav_Team = 'Man U'"
      ],
      "metadata": {
        "id": "XqmZLl6lQcRA"
      },
      "execution_count": 11,
      "outputs": []
    },
    {
      "cell_type": "code",
      "source": [
        "print(First_name)\n",
        "print(Last_Name)\n",
        "print(Age)\n",
        "print(Fav_Colour)\n",
        "print(Fav_Sport)\n",
        "print(Fav_Team)"
      ],
      "metadata": {
        "colab": {
          "base_uri": "https://localhost:8080/"
        },
        "id": "lIuuoStvQ8aB",
        "outputId": "a15e2f99-1b7a-45b1-d42f-06ae41451b9d"
      },
      "execution_count": 14,
      "outputs": [
        {
          "output_type": "stream",
          "name": "stdout",
          "text": [
            "John\n",
            "Connor\n",
            "23\n",
            "Gray\n",
            "Soccer\n",
            "Man U\n"
          ]
        }
      ]
    },
    {
      "cell_type": "code",
      "source": [
        "First_name = input('What is your first name?')\n",
        "#In this line, I am using the input method to ask for the users first name.\n",
        "\n",
        "Last_Name = input('What is your last name?')\n",
        "#In this line, I am using the input method to ask for the users last name.\n",
        "\n",
        "Age = input('What is your age?')\n",
        "#In this line, I am using the input method to ask for the users age.\n",
        "\n",
        "Fav_Colour = input('What is your favorite colour?')\n",
        "#In this line, I am using the input method to ask for the users fav colour.\n",
        "\n",
        "Fav_Sport = input('What is your favorite sport?')\n",
        "#In this line, I am using the input method to ask for the users fav sport.\n",
        "\n",
        "Fav_Team = input('What is your favourite team?')\n",
        "#In this line, I am using the input method to ask for the users fav team.\n"
      ],
      "metadata": {
        "colab": {
          "base_uri": "https://localhost:8080/"
        },
        "id": "E9cKMAgsRbIM",
        "outputId": "f0c4124b-3f81-421d-ce33-5b919272430e"
      },
      "execution_count": 17,
      "outputs": [
        {
          "name": "stdout",
          "output_type": "stream",
          "text": [
            "What is your first name?Harry\n",
            "What is your last name?Smith\n",
            "What is your age?20\n",
            "What is your favorite colour?Blue\n",
            "What is your favorite sport?Soccer\n",
            "What is your favourite team?Cubs\n"
          ]
        }
      ]
    },
    {
      "cell_type": "code",
      "source": [
        "print(f\"User first name is, {First_name}, last name is, {Last_Name}, age is, {Age},favourite colour is, {Fav_Colour}, favourite sport is, {Fav_Sport}, favourite team is, {Fav_Team}\")"
      ],
      "metadata": {
        "colab": {
          "base_uri": "https://localhost:8080/"
        },
        "id": "x4vSH9xkTY7h",
        "outputId": "76018033-2902-43ed-88f4-24a71e78308b"
      },
      "execution_count": 19,
      "outputs": [
        {
          "output_type": "stream",
          "name": "stdout",
          "text": [
            "User first name is, Harry, last name is, Smith, age is, 20,favourite colour is, Blue, favourite sport is, Soccer, favourite team is, Cubs\n"
          ]
        }
      ]
    },
    {
      "cell_type": "code",
      "source": [],
      "metadata": {
        "id": "p2xhiHpSXHsh"
      },
      "execution_count": null,
      "outputs": []
    }
  ]
}