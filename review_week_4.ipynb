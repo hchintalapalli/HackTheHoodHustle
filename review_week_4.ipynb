{
  "nbformat": 4,
  "nbformat_minor": 0,
  "metadata": {
    "colab": {
      "provenance": [],
      "authorship_tag": "ABX9TyMh0FSkQR8MEOgV6KBrwfrL",
      "include_colab_link": true
    },
    "kernelspec": {
      "name": "python3",
      "display_name": "Python 3"
    },
    "language_info": {
      "name": "python"
    }
  },
  "cells": [
    {
      "cell_type": "markdown",
      "metadata": {
        "id": "view-in-github",
        "colab_type": "text"
      },
      "source": [
        "<a href=\"https://colab.research.google.com/github/hchintalapalli/HackTheHoodHustle/blob/main/review_week_4.ipynb\" target=\"_parent\"><img src=\"https://colab.research.google.com/assets/colab-badge.svg\" alt=\"Open In Colab\"/></a>"
      ]
    },
    {
      "cell_type": "markdown",
      "source": [
        "# Lists"
      ],
      "metadata": {
        "id": "Ut-9M5bwv-i3"
      }
    },
    {
      "cell_type": "code",
      "source": [
        "# 1. Create a list and then print it, making sure to give it a descriptive variable name:\n",
        "\n",
        "my_apple_items = [4, 'iphone', 'ipad', 'mackbook', 'watch']\n",
        "\n",
        "print(my_apple_items)\n",
        "\n",
        "# 2 index practice\n",
        "\n",
        "rainbow_colors = ['red', 'orange', 'yellow', 'green', 'blue', 'indigo', 'violet']\n",
        "\n",
        "# Print the third color through indexing\n",
        "\n",
        "print(rainbow_colors[2])\n",
        "\n"
      ],
      "metadata": {
        "colab": {
          "base_uri": "https://localhost:8080/"
        },
        "id": "UAGUlKx4wDTx",
        "outputId": "c2c6921a-a854-4b67-9075-626e346d409b"
      },
      "execution_count": 1,
      "outputs": [
        {
          "output_type": "stream",
          "name": "stdout",
          "text": [
            "[4, 'iphone', 'ipad', 'mackbook', 'watch']\n",
            "yellow\n"
          ]
        }
      ]
    },
    {
      "cell_type": "markdown",
      "source": [
        "#Inputs"
      ],
      "metadata": {
        "id": "d8ZX5kJ3zYwK"
      }
    },
    {
      "cell_type": "code",
      "source": [
        "# Step 1: Get the user's name as input\n",
        "\n",
        "user_name = input(\"what is your name? \")\n",
        "\n",
        "print(\"Hello, \" + user_name + \"!\")"
      ],
      "metadata": {
        "colab": {
          "base_uri": "https://localhost:8080/"
        },
        "id": "c3QCyMXrzPin",
        "outputId": "acf37839-66a7-4bf9-f8cc-133f41eb5bf3"
      },
      "execution_count": 2,
      "outputs": [
        {
          "output_type": "stream",
          "name": "stdout",
          "text": [
            "what is your name? Hema\n",
            "Hello, Hema!\n"
          ]
        }
      ]
    },
    {
      "cell_type": "code",
      "source": [
        "# Step 2: Get the user's age as input and convert it to an integer\n",
        "\n",
        "age = input(\"How old are you? \")\n",
        "\n",
        "num_age = int(age)\n",
        "\n",
        "future_age = num_age + 5\n",
        "print(f\"Wow! You will be {future_age} in five years! \")"
      ],
      "metadata": {
        "colab": {
          "base_uri": "https://localhost:8080/"
        },
        "id": "hNxe1klT0WJl",
        "outputId": "7c5bfa56-f78f-4bd2-f3e5-eb3a8e5b88c7"
      },
      "execution_count": 5,
      "outputs": [
        {
          "output_type": "stream",
          "name": "stdout",
          "text": [
            "How old are you? 10\n",
            "Wow! You will be 15 in five years! \n"
          ]
        }
      ]
    },
    {
      "cell_type": "markdown",
      "source": [
        "# Conditionals"
      ],
      "metadata": {
        "id": "tuWiMB_W5hvg"
      }
    },
    {
      "cell_type": "code",
      "source": [
        "#Ask the user's age\n",
        "\n",
        "user_age = input(\"What is your age? \")\n",
        "\n",
        "num_age = int(user_age)\n",
        "\n",
        "if num_age >= 18:\n",
        "  print(\"You are an adult, you can vote!\")\n",
        "else: print(\"You are a minor\")"
      ],
      "metadata": {
        "colab": {
          "base_uri": "https://localhost:8080/"
        },
        "id": "5f7JN7Rg16QI",
        "outputId": "82cba41f-4873-4317-d37f-f635ffb4d110"
      },
      "execution_count": 8,
      "outputs": [
        {
          "output_type": "stream",
          "name": "stdout",
          "text": [
            "What is your age? 7\n",
            "You are a minor\n"
          ]
        }
      ]
    },
    {
      "cell_type": "code",
      "source": [
        "fruits_search = input(\"What would you like to buy at my fruit store today? \")\n",
        "\n",
        "fruits = [\"apple\", \"banana\", \"orange\", \"grape\", \"pineapple\"]\n",
        "\n",
        "if fruits_search.lower() in fruits:\n",
        "  print(\"Good news! We have that in stock for you! \")\n",
        "else:\n",
        "  print(\"Sorry, we do not have that in store. \")"
      ],
      "metadata": {
        "colab": {
          "base_uri": "https://localhost:8080/"
        },
        "id": "kXrUG9Jl7BVm",
        "outputId": "a90679ba-2fe8-4155-ba77-1ea6c79b4042"
      },
      "execution_count": 12,
      "outputs": [
        {
          "output_type": "stream",
          "name": "stdout",
          "text": [
            "What would you like to buy at my fruit store today? Apple\n",
            "Good news! We have that in stock for you! \n"
          ]
        }
      ]
    },
    {
      "cell_type": "code",
      "source": [],
      "metadata": {
        "id": "Ss0eOrhz9Mgp"
      },
      "execution_count": null,
      "outputs": []
    }
  ]
}