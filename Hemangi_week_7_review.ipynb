{
  "nbformat": 4,
  "nbformat_minor": 0,
  "metadata": {
    "colab": {
      "provenance": [],
      "authorship_tag": "ABX9TyNowQUSIVYm/+nb0ZlT798a",
      "include_colab_link": true
    },
    "kernelspec": {
      "name": "python3",
      "display_name": "Python 3"
    },
    "language_info": {
      "name": "python"
    }
  },
  "cells": [
    {
      "cell_type": "markdown",
      "metadata": {
        "id": "view-in-github",
        "colab_type": "text"
      },
      "source": [
        "<a href=\"https://colab.research.google.com/github/hchintalapalli/HackTheHoodHustle/blob/main/Hemangi_week_7_review.ipynb\" target=\"_parent\"><img src=\"https://colab.research.google.com/assets/colab-badge.svg\" alt=\"Open In Colab\"/></a>"
      ]
    },
    {
      "cell_type": "markdown",
      "source": [
        "# Inputs\n",
        "\n",
        "Make sure we are asking the user a clear question\n",
        "\n",
        "Remember that inputs return the value as a string\n",
        "\n",
        "Input is a function!\n",
        "\n",
        "combos:\n",
        "\n",
        "int(input(\"___\")) = changes to an interger, a whole #\n",
        "\n",
        "float(input(\"___\")) = changes ti a float (decimals)"
      ],
      "metadata": {
        "id": "lzbUl5V5zt_A"
      }
    },
    {
      "cell_type": "code",
      "source": [
        "#1 Create and print a variable that contains a name using the `input()` function\n",
        "\n",
        "name = input(\"Please enter your name: \")\n",
        "print(f'My name: ', name)\n",
        "\n",
        "#2 Create and print a variable that contains an integer using the `input()` function\n",
        "\n",
        "age = int(input(\"Give me your age: \"))\n",
        "print(f'My age:' , age)\n",
        "\n",
        "#3 Create and print a variable that contains a float using the `input()` function\n",
        "\n",
        "temperature = float(input(\"Enter the current temperature: \"))\n",
        "print(\"Current temperature: \", temperature)\n",
        "\n",
        "#4 Create and print a variable that contains an integer using the `input()` function\n",
        "# and add it to another variable\n",
        "\n",
        "\n",
        "age = int(input(\"Whhat is your age? \"))\n",
        "num_years = int(input(\"How many years would you like for me to calculate? \"))\n",
        "\n",
        "sum = age + num_years\n",
        "\n",
        "print(f\"In {num_years} years, you will be {sum} years old\")\n"
      ],
      "metadata": {
        "colab": {
          "base_uri": "https://localhost:8080/"
        },
        "id": "Hwm1qYQY0etA",
        "outputId": "8d68c187-fdd8-4e7e-b2f1-1d83a8a140a6"
      },
      "execution_count": 10,
      "outputs": [
        {
          "output_type": "stream",
          "name": "stdout",
          "text": [
            "Please enter your name: hema\n",
            "My name:  hema\n",
            "Give me your age: 20\n",
            "My age: 20\n",
            "Enter the current temperature: 75\n",
            "Current temperature:  75.0\n",
            "Whhat is your age? 20 \n",
            "How many years would you like for me to calculate? 5\n",
            "In 5 years, you will be 25 years old\n"
          ]
        }
      ]
    },
    {
      "cell_type": "markdown",
      "source": [
        "# Conditionals\n",
        "\n",
        "Statements!\n",
        "\n",
        "- IF the statement is true, then a condition will happen\n",
        "- There is always a ':' (colon) at the end\n",
        "- The next line of code is always indented\n",
        "\n",
        "if _______:\n",
        "elif ________: (always after an if statemnt)\n",
        "else: (Catch all phrase)"
      ],
      "metadata": {
        "id": "UrOUXVQ362Qn"
      }
    },
    {
      "cell_type": "code",
      "source": [
        "# Voting Eligibility Checker\n",
        "\n",
        "# Step 1: Ask the user to enter their age\n",
        "\n",
        "# Step 2: Tell them a specific statement based off that age\n",
        "#Step 2.1\n",
        "# If the age is 18 or older, print that the user can vote\n",
        "#Step 2.2\n",
        "#Elif the user will be 18 in two years, tell them they can vote in two years\n",
        "#Step 2.3\n",
        "#If they aren't,\n",
        "#print that the user cannot vote yet\n",
        "\n",
        "\n",
        "age = (input(\"Enter your age: \"))\n",
        "\n",
        "  print(f\"That's a wonderful age\")\n",
        "\n",
        "if age >= 18:\n",
        "  print(f\"Woohoo, You are eligable to vote! \")\n",
        "\n",
        "elif age == 16:\n",
        "  print(f\"You are so close, only two more years until you can vote! \")\n",
        "\n",
        "elif age == 17:\n",
        "  print(f\"You are so close, only one more year until you can vote! \")\n",
        "\n",
        "else:\n",
        "  print(f\"Sorry, you are not eligable to vote yet. \")\n"
      ],
      "metadata": {
        "id": "TvuVx79v5kzZ"
      },
      "execution_count": null,
      "outputs": []
    },
    {
      "cell_type": "markdown",
      "source": [
        "#Guess the number activity"
      ],
      "metadata": {
        "id": "l6nZhvnKAJHF"
      }
    },
    {
      "cell_type": "code",
      "source": [
        "# Hemangi (the computer) had to choose a secret number\n",
        "# Hemangi (the computer) asked Sara (the guesser) \"Guess a number between 1-25\"\n",
        "# Sara (the guesser) answered 12\n",
        "# Hemangi (the computer) said \"guess a higher number\"\n",
        "# Hemangi (the computer) knew it had to be higher because her number IS higher\n",
        "# Sara Sara (the guesser) answered 15\n",
        "# Hemangi (the computer) said \"That is the right answer!\"\n",
        "\n",
        "secret_number = 15\n",
        "\n",
        "user_guess = int(input(\"Guess a number between 1-25: \"))\n",
        "\n",
        "\n",
        "while user_guess != secret_number:\n",
        "  if user_guess  < secret_number:\n",
        "    print(\"Guess a higher number \")\n",
        "  elif user_guess > secret_number:\n",
        "    print(\"guess a lower number\")\n",
        "  elif user_guess == secret_number:\n",
        "    print(\"You guess correctly!\")\n",
        "\n",
        "  user_guess = int(input(\"Guess a number between 1-25: \"))\n",
        "\n",
        "print(\"You guessed the correct number!\")"
      ],
      "metadata": {
        "id": "G-VSo5n5AHWv"
      },
      "execution_count": null,
      "outputs": []
    },
    {
      "cell_type": "markdown",
      "source": [
        "# Functions!!!!\n",
        "\n",
        "**What is a function?**\n",
        "\n",
        "Function is a resuable block of code\n",
        "\n",
        "They can take inputs, and give outputs.\n",
        "\n",
        "ex:\n",
        "input(), len(), int(), print()\n",
        "\n",
        "**What is the syntax to create a function?**\n",
        "\n",
        "\n",
        "\n",
        "1.   `def` key starts the function\n",
        "2.   followed by the function name `snake_case`\n",
        "3.   followed by a parenthesis `()`\n",
        "4.   ends with a colon `:`\n",
        "5.   Next lines of code is indented\n",
        "\n",
        "**What are parameters / arguments?**\n",
        "\n",
        "Variables listed inside of the parenthesis, can have multiple, separated by a comma\n",
        "\n",
        "**What is the syntax to call a function?**\n",
        "\n",
        "use function name, and then the parenthsiis. If it takes an argument, you place that argument inside of the parenthesis"
      ],
      "metadata": {
        "id": "6P7CqU2gElCy"
      }
    },
    {
      "cell_type": "code",
      "source": [
        "def my_greeting():\n",
        "  print(\"Hello there!!!!!\")\n",
        "\n",
        "my_greeting()\n"
      ],
      "metadata": {
        "colab": {
          "base_uri": "https://localhost:8080/"
        },
        "id": "S11fl8NPF4hM",
        "outputId": "5c74f7be-a4b7-408c-f869-7a6999dd356f"
      },
      "execution_count": 11,
      "outputs": [
        {
          "output_type": "stream",
          "name": "stdout",
          "text": [
            "Hello there!!!!!\n"
          ]
        }
      ]
    },
    {
      "cell_type": "code",
      "source": [
        "def my_greeting_name(name):\n",
        "  print(f\"Hello there, {name}!!!\")\n",
        "\n",
        "my_greeting_name(\"Hemangi\")\n",
        "my_greeting_name(\"Xavier\")"
      ],
      "metadata": {
        "colab": {
          "base_uri": "https://localhost:8080/"
        },
        "id": "wviLBG1MGYyz",
        "outputId": "ad1dd3b5-1bc4-4942-a1ae-f88c544a99d3"
      },
      "execution_count": 12,
      "outputs": [
        {
          "output_type": "stream",
          "name": "stdout",
          "text": [
            "Hello there, Hemangi!!!\n"
          ]
        }
      ]
    },
    {
      "cell_type": "code",
      "source": [
        "def greet_class_students(roster):\n",
        "  for student in roster:\n",
        "    print(f\"Hello there, {student}!!!!!\")\n",
        "\n",
        "class_A = [\"Hemangi\", \"Sara\", \"Zaid\", \"Xavier\", \"Emmanuel\"]\n",
        "\n",
        "greet_class_students(class_A)\n",
        "\n",
        "class_B = ['Frodo', 'Merry', 'Pippin', 'Sam']\n",
        "\n",
        "greet_class_students(class_B)"
      ],
      "metadata": {
        "colab": {
          "base_uri": "https://localhost:8080/"
        },
        "id": "fPmyZ-6PHcL2",
        "outputId": "74140458-629a-44ed-baea-15dbb7d365b7"
      },
      "execution_count": 14,
      "outputs": [
        {
          "output_type": "stream",
          "name": "stdout",
          "text": [
            "Hello there, Hemangi!!!!!\n",
            "Hello there, Sara!!!!!\n",
            "Hello there, Zaid!!!!!\n",
            "Hello there, Xavier!!!!!\n",
            "Hello there, Emmanuel!!!!!\n",
            "Hello there, Frodo!!!!!\n",
            "Hello there, Merry!!!!!\n",
            "Hello there, Pippin!!!!!\n",
            "Hello there, Sam!!!!!\n"
          ]
        }
      ]
    },
    {
      "cell_type": "code",
      "source": [],
      "metadata": {
        "id": "_R0JaDMuJS_k"
      },
      "execution_count": null,
      "outputs": []
    }
  ]
}