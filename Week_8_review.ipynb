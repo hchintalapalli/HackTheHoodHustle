{
  "nbformat": 4,
  "nbformat_minor": 0,
  "metadata": {
    "colab": {
      "provenance": [],
      "authorship_tag": "ABX9TyN2spS14e+7HNP1OC34RGDa",
      "include_colab_link": true
    },
    "kernelspec": {
      "name": "python3",
      "display_name": "Python 3"
    },
    "language_info": {
      "name": "python"
    }
  },
  "cells": [
    {
      "cell_type": "markdown",
      "metadata": {
        "id": "view-in-github",
        "colab_type": "text"
      },
      "source": [
        "<a href=\"https://colab.research.google.com/github/hchintalapalli/HackTheHoodHustle/blob/main/Week_8_review.ipynb\" target=\"_parent\"><img src=\"https://colab.research.google.com/assets/colab-badge.svg\" alt=\"Open In Colab\"/></a>"
      ]
    },
    {
      "cell_type": "code",
      "execution_count": 3,
      "metadata": {
        "colab": {
          "base_uri": "https://localhost:8080/"
        },
        "id": "xcLIJkWnA8-f",
        "outputId": "079a09c0-ba63-49c0-eae7-8e165fca68ca"
      },
      "outputs": [
        {
          "output_type": "stream",
          "name": "stdout",
          "text": [
            "Bob the flexibility hero\n"
          ]
        }
      ],
      "source": [
        "def generate_superhero_power():\n",
        "    # Define a user name and superhero power\n",
        "    username = 'Bob'\n",
        "    superhero_power = 'flexibility'\n",
        "\n",
        "    # Combine the user's name with the given superhero power\n",
        "    superhero_name_and_power = f\"{username} the {superhero_power} hero\"\n",
        "\n",
        "    # Print the result\n",
        "    print(superhero_name_and_power)\n",
        "\n",
        "# Example usage\n",
        "# Call the function\n",
        "generate_superhero_power()"
      ]
    },
    {
      "cell_type": "markdown",
      "source": [
        "###Function w/ return"
      ],
      "metadata": {
        "id": "A-dM1dy5Fbcs"
      }
    },
    {
      "cell_type": "code",
      "source": [
        "#write function w/ a return statement:\n",
        "def superhero_power_name():\n",
        "\n",
        "# Define a superhero power\n",
        "  superhero_power = \"flexibility\"\n",
        "\n",
        "  # Return the superhero power\n",
        "  return superhero_power\n",
        "\n",
        "# Example usage\n",
        "# Call the function and print the result\n",
        "result = superhero_power_name()\n",
        "print(\"Superhero Power:\", result)"
      ],
      "metadata": {
        "colab": {
          "base_uri": "https://localhost:8080/"
        },
        "id": "2shhaS74FaiY",
        "outputId": "2573f5ec-3a97-4def-acc1-7a55855fc1d3"
      },
      "execution_count": 6,
      "outputs": [
        {
          "output_type": "stream",
          "name": "stdout",
          "text": [
            "Superhero Power: flexibility\n"
          ]
        }
      ]
    },
    {
      "cell_type": "markdown",
      "source": [
        "###Functions w/ arguements"
      ],
      "metadata": {
        "id": "wCwL4nJMIhGb"
      }
    },
    {
      "cell_type": "code",
      "source": [
        "#hint use ()\n",
        "    # Combine the user's name with the given superhero power\n",
        "    # Return the result\n",
        "# Example usage\n",
        "# Call the function with arguments and print the result\n",
        "\n",
        "def generate_superhero_power(name,power):\n",
        "  return f\"{name} has the {power} super power.\"\n",
        "\n",
        "result = generate_superhero_power(\"Bob\",\"flexibility\")\n",
        "print(result)\n",
        ""
      ],
      "metadata": {
        "colab": {
          "base_uri": "https://localhost:8080/"
        },
        "id": "oF5NZSp2IorX",
        "outputId": "2a8e1d48-7996-4cb2-b33a-e2b086d995f9"
      },
      "execution_count": 7,
      "outputs": [
        {
          "output_type": "stream",
          "name": "stdout",
          "text": [
            "Bob has the flexibility super power.\n"
          ]
        }
      ]
    }
  ]
}